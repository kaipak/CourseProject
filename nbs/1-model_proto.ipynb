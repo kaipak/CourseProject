{
 "cells": [
  {
   "cell_type": "code",
   "execution_count": 1,
   "metadata": {},
   "outputs": [],
   "source": [
    "%load_ext autoreload\n",
    "%autoreload 2\n",
    "%matplotlib inline"
   ]
  },
  {
   "cell_type": "code",
   "execution_count": 2,
   "metadata": {},
   "outputs": [],
   "source": [
    "import sys\n",
    "import os\n",
    "import random\n",
    "from pathlib import Path\n",
    "import pandas as pd\n",
    "import matplotlib.pyplot as plt\n",
    "import seaborn as sns\n",
    "from sklearn.model_selection import train_test_split\n",
    "from sklearn.metrics import accuracy_score, classification_report, confusion_matrix\n",
    "import torch\n",
    "from torchtext.data import Field, TabularDataset, BucketIterator, Iterator\n",
    "import torch.nn as nn\n",
    "from transformers import BertTokenizer, BertForSequenceClassification\n",
    "import torch.optim as optim\n",
    "\n",
    "sys.path.append('../src/')\n",
    "from model import SarcasmDetector"
   ]
  },
  {
   "cell_type": "code",
   "execution_count": 3,
   "metadata": {},
   "outputs": [
    {
     "name": "stdout",
     "output_type": "stream",
     "text": [
      "There is/are 1 GPU(s) available.\n",
      "GPU GeForce RTX 2070 SUPER will be used.\n"
     ]
    },
    {
     "name": "stderr",
     "output_type": "stream",
     "text": [
      "Some weights of the model checkpoint at bert-base-uncased were not used when initializing BertForSequenceClassification: ['cls.predictions.bias', 'cls.predictions.transform.dense.weight', 'cls.predictions.transform.dense.bias', 'cls.predictions.decoder.weight', 'cls.seq_relationship.weight', 'cls.seq_relationship.bias', 'cls.predictions.transform.LayerNorm.weight', 'cls.predictions.transform.LayerNorm.bias']\n",
      "- This IS expected if you are initializing BertForSequenceClassification from the checkpoint of a model trained on another task or with another architecture (e.g. initializing a BertForSequenceClassification model from a BertForPreTraining model).\n",
      "- This IS NOT expected if you are initializing BertForSequenceClassification from the checkpoint of a model that you expect to be exactly identical (initializing a BertForSequenceClassification model from a BertForSequenceClassification model).\n",
      "Some weights of BertForSequenceClassification were not initialized from the model checkpoint at bert-base-uncased and are newly initialized: ['classifier.weight', 'classifier.bias']\n",
      "You should probably TRAIN this model on a down-stream task to be able to use it for predictions and inference.\n"
     ]
    }
   ],
   "source": [
    "detector = SarcasmDetector(tokenizer_do_lc=False)"
   ]
  },
  {
   "cell_type": "code",
   "execution_count": 4,
   "metadata": {},
   "outputs": [
    {
     "data": {
      "text/plain": [
       "BCELoss()"
      ]
     },
     "execution_count": 4,
     "metadata": {},
     "output_type": "execute_result"
    }
   ],
   "source": [
    "detector.model_criterion"
   ]
  },
  {
   "cell_type": "code",
   "execution_count": 5,
   "metadata": {},
   "outputs": [
    {
     "name": "stdout",
     "output_type": "stream",
     "text": [
      "Created train, validation, and test datasets with max_seq_len=128\n",
      "Created iterators with batch_size=16\n"
     ]
    }
   ],
   "source": [
    "detector.tokenize_data('train.csv', 'validate.csv', 'test.csv', batch_size=16, max_seq_len=128)"
   ]
  },
  {
   "cell_type": "code",
   "execution_count": 6,
   "metadata": {},
   "outputs": [
    {
     "name": "stdout",
     "output_type": "stream",
     "text": [
      "Epoch [1/15], Step [133/3990], Train Loss: 0.6692, Valid Loss: 0.7711\n",
      "../data/output/foo.pt\n",
      "0.7711071583131949\n",
      "Model saved to ==> ../data/output/model.pt\n",
      "Model saved to ==> ../data/output/metrics.pt\n",
      "Epoch [1/15], Step [266/3990], Train Loss: 0.6475, Valid Loss: 0.7365\n",
      "../data/output/foo.pt\n",
      "0.7365104605754217\n",
      "Model saved to ==> ../data/output/model.pt\n",
      "Model saved to ==> ../data/output/metrics.pt\n",
      "Epoch [2/15], Step [399/3990], Train Loss: 0.6821, Valid Loss: 0.7734\n",
      "Epoch [2/15], Step [532/3990], Train Loss: 0.6434, Valid Loss: 0.6800\n",
      "../data/output/foo.pt\n",
      "0.6800134306152662\n",
      "Model saved to ==> ../data/output/model.pt\n",
      "Model saved to ==> ../data/output/metrics.pt\n",
      "Epoch [3/15], Step [665/3990], Train Loss: 0.6588, Valid Loss: 0.7608\n",
      "Epoch [3/15], Step [798/3990], Train Loss: 0.6174, Valid Loss: 0.6194\n",
      "../data/output/foo.pt\n",
      "0.6193712837994099\n",
      "Model saved to ==> ../data/output/model.pt\n",
      "Model saved to ==> ../data/output/metrics.pt\n",
      "Epoch [4/15], Step [931/3990], Train Loss: 0.6298, Valid Loss: 0.6456\n",
      "Epoch [4/15], Step [1064/3990], Train Loss: 0.5785, Valid Loss: 0.5887\n",
      "../data/output/foo.pt\n",
      "0.588693710664908\n",
      "Model saved to ==> ../data/output/model.pt\n",
      "Model saved to ==> ../data/output/metrics.pt\n",
      "Epoch [5/15], Step [1197/3990], Train Loss: 0.5974, Valid Loss: 0.6300\n",
      "Epoch [5/15], Step [1330/3990], Train Loss: 0.5470, Valid Loss: 0.5822\n",
      "../data/output/foo.pt\n",
      "0.5821704864501953\n",
      "Model saved to ==> ../data/output/model.pt\n",
      "Model saved to ==> ../data/output/metrics.pt\n",
      "Epoch [6/15], Step [1463/3990], Train Loss: 0.5748, Valid Loss: 0.5880\n",
      "Epoch [6/15], Step [1596/3990], Train Loss: 0.5214, Valid Loss: 0.5644\n",
      "../data/output/foo.pt\n",
      "0.5643709823489189\n",
      "Model saved to ==> ../data/output/model.pt\n",
      "Model saved to ==> ../data/output/metrics.pt\n",
      "Epoch [7/15], Step [1729/3990], Train Loss: 0.5579, Valid Loss: 0.5507\n",
      "../data/output/foo.pt\n",
      "0.5506631496051947\n",
      "Model saved to ==> ../data/output/model.pt\n",
      "Model saved to ==> ../data/output/metrics.pt\n",
      "Epoch [7/15], Step [1862/3990], Train Loss: 0.4980, Valid Loss: 0.5598\n",
      "Epoch [8/15], Step [1995/3990], Train Loss: 0.5326, Valid Loss: 0.5536\n",
      "Epoch [8/15], Step [2128/3990], Train Loss: 0.4831, Valid Loss: 0.5539\n",
      "Epoch [9/15], Step [2261/3990], Train Loss: 0.5150, Valid Loss: 0.5176\n",
      "../data/output/foo.pt\n",
      "0.5176026957730452\n",
      "Model saved to ==> ../data/output/model.pt\n",
      "Model saved to ==> ../data/output/metrics.pt\n",
      "Epoch [9/15], Step [2394/3990], Train Loss: 0.4624, Valid Loss: 0.5062\n",
      "../data/output/foo.pt\n",
      "0.5061862884710232\n",
      "Model saved to ==> ../data/output/model.pt\n",
      "Model saved to ==> ../data/output/metrics.pt\n",
      "Epoch [10/15], Step [2527/3990], Train Loss: 0.5003, Valid Loss: 0.5060\n",
      "../data/output/foo.pt\n",
      "0.5059534125030041\n",
      "Model saved to ==> ../data/output/model.pt\n",
      "Model saved to ==> ../data/output/metrics.pt\n",
      "Epoch [10/15], Step [2660/3990], Train Loss: 0.4507, Valid Loss: 0.4847\n",
      "../data/output/foo.pt\n",
      "0.48465477613111335\n",
      "Model saved to ==> ../data/output/model.pt\n",
      "Model saved to ==> ../data/output/metrics.pt\n",
      "Epoch [11/15], Step [2793/3990], Train Loss: 0.4865, Valid Loss: 0.4945\n",
      "Epoch [11/15], Step [2926/3990], Train Loss: 0.4349, Valid Loss: 0.4715\n",
      "../data/output/foo.pt\n",
      "0.4715208125611146\n",
      "Model saved to ==> ../data/output/model.pt\n",
      "Model saved to ==> ../data/output/metrics.pt\n",
      "Epoch [12/15], Step [3059/3990], Train Loss: 0.4690, Valid Loss: 0.4993\n",
      "Epoch [12/15], Step [3192/3990], Train Loss: 0.4213, Valid Loss: 0.4793\n",
      "Epoch [13/15], Step [3325/3990], Train Loss: 0.4634, Valid Loss: 0.4893\n",
      "Epoch [13/15], Step [3458/3990], Train Loss: 0.4028, Valid Loss: 0.4608\n",
      "../data/output/foo.pt\n",
      "0.4608342957993348\n",
      "Model saved to ==> ../data/output/model.pt\n",
      "Model saved to ==> ../data/output/metrics.pt\n",
      "Epoch [14/15], Step [3591/3990], Train Loss: 0.4395, Valid Loss: 0.4817\n",
      "Epoch [14/15], Step [3724/3990], Train Loss: 0.3966, Valid Loss: 0.4576\n",
      "../data/output/foo.pt\n",
      "0.45755504195888835\n",
      "Model saved to ==> ../data/output/model.pt\n",
      "Model saved to ==> ../data/output/metrics.pt\n",
      "Epoch [15/15], Step [3857/3990], Train Loss: 0.4470, Valid Loss: 0.4707\n",
      "Epoch [15/15], Step [3990/3990], Train Loss: 0.3799, Valid Loss: 0.4541\n",
      "../data/output/foo.pt\n",
      "0.45406292254726094\n",
      "Model saved to ==> ../data/output/model.pt\n",
      "Model saved to ==> ../data/output/metrics.pt\n",
      "Model saved to ==> ../data/output/metrics.pt\n",
      "Finished Training!\n"
     ]
    }
   ],
   "source": [
    "detector.train(num_epochs=15, lr=8e-7)"
   ]
  },
  {
   "cell_type": "code",
   "execution_count": 7,
   "metadata": {},
   "outputs": [
    {
     "name": "stdout",
     "output_type": "stream",
     "text": [
      "Model loaded from ../data/output.\n"
     ]
    },
    {
     "data": {
      "image/png": "[encoded data removed]",
      "text/plain": [
       "<Figure size 432x288 with 1 Axes>"
      ]
     },
     "metadata": {
      "needs_background": "light"
     },
     "output_type": "display_data"
    }
   ],
   "source": [
    "train_loss_list, valid_loss_list, global_steps_list = detector.load_metrics(Path('../data/output/') / 'metrics.pt')\n",
    "plt.plot(global_steps_list, train_loss_list, label='Train')\n",
    "plt.plot(global_steps_list, valid_loss_list, label='Valid')\n",
    "plt.xlabel('Global Steps')\n",
    "plt.ylabel('Loss')\n",
    "plt.legend()\n",
    "plt.show() "
   ]
  },
  {
   "cell_type": "code",
   "execution_count": null,
   "metadata": {},
   "outputs": [],
   "source": []
  }
 ],
 "metadata": {
  "kernelspec": {
   "display_name": "Python 3",
   "language": "python",
   "name": "python3"
  },
  "language_info": {
   "codemirror_mode": {
    "name": "ipython",
    "version": 3
   },
   "file_extension": ".py",
   "mimetype": "text/x-python",
   "name": "python",
   "nbconvert_exporter": "python",
   "pygments_lexer": "ipython3",
   "version": "3.8.5"
  }
 },
 "nbformat": 4,
 "nbformat_minor": 4
}
