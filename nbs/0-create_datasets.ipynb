{
 "cells": [
  {
   "cell_type": "code",
   "execution_count": 5,
   "metadata": {},
   "outputs": [],
   "source": [
    "%reload_ext autoreload\n",
    "%autoreload 2\n",
    "%matplotlib inline"
   ]
  },
  {
   "cell_type": "code",
   "execution_count": 12,
   "metadata": {},
   "outputs": [],
   "source": [
    "import os, sys\n",
    "from pathlib import Path\n",
    "\n",
    "import numpy as np\n",
    "import pandas as pd\n",
    "\n",
    "sys.path.append('../')\n",
    "from src.data_prep import DataPrep as dp"
   ]
  },
  {
   "cell_type": "code",
   "execution_count": 14,
   "metadata": {},
   "outputs": [
    {
     "name": "stdout",
     "output_type": "stream",
     "text": [
      "0.8 train ratio results in 4000 training observations and 1000 validation observations.\n"
     ]
    },
    {
     "data": {
      "text/html": [
       "<div>\n",
       "<style scoped>\n",
       "    .dataframe tbody tr th:only-of-type {\n",
       "        vertical-align: middle;\n",
       "    }\n",
       "\n",
       "    .dataframe tbody tr th {\n",
       "        vertical-align: top;\n",
       "    }\n",
       "\n",
       "    .dataframe thead th {\n",
       "        text-align: right;\n",
       "    }\n",
       "</style>\n",
       "<table border=\"1\" class=\"dataframe\">\n",
       "  <thead>\n",
       "    <tr style=\"text-align: right;\">\n",
       "      <th></th>\n",
       "      <th>label</th>\n",
       "      <th>response</th>\n",
       "      <th>context</th>\n",
       "      <th>concat</th>\n",
       "    </tr>\n",
       "  </thead>\n",
       "  <tbody>\n",
       "    <tr>\n",
       "      <th>1501</th>\n",
       "      <td>SARCASM</td>\n",
       "      <td>@USER @USER Okay . I was just having a little ...</td>\n",
       "      <td>[Blah blah blah . Just listen to this guy . He...</td>\n",
       "      <td>Blah blah blah . Just listen to this guy . He ...</td>\n",
       "    </tr>\n",
       "    <tr>\n",
       "      <th>2586</th>\n",
       "      <td>NOT_SARCASM</td>\n",
       "      <td>@USER @USER @USER I grew up in Crowborough . I...</td>\n",
       "      <td>[There ’ s a beautiful #WolfMoon rising over C...</td>\n",
       "      <td>There ’ s a beautiful #WolfMoon rising over Cr...</td>\n",
       "    </tr>\n",
       "    <tr>\n",
       "      <th>2653</th>\n",
       "      <td>NOT_SARCASM</td>\n",
       "      <td>scripted tv show is not the way to a person's ...</td>\n",
       "      <td>[#TheBachelor I have no idea why such beautifu...</td>\n",
       "      <td>#TheBachelor I have no idea why such beautiful...</td>\n",
       "    </tr>\n",
       "    <tr>\n",
       "      <th>1055</th>\n",
       "      <td>SARCASM</td>\n",
       "      <td>@USER @USER Don't forget that evocative sense ...</td>\n",
       "      <td>[In other news , I'm going to take up art . 🎨 ...</td>\n",
       "      <td>In other news , I'm going to take up art . 🎨 &lt;...</td>\n",
       "    </tr>\n",
       "    <tr>\n",
       "      <th>705</th>\n",
       "      <td>SARCASM</td>\n",
       "      <td>@USER @USER It ’ s funny how there aren ’ t an...</td>\n",
       "      <td>[Is this photo real ? If so please tell me how...</td>\n",
       "      <td>Is this photo real ? If so please tell me how ...</td>\n",
       "    </tr>\n",
       "  </tbody>\n",
       "</table>\n",
       "</div>"
      ],
      "text/plain": [
       "            label                                           response  \\\n",
       "1501      SARCASM  @USER @USER Okay . I was just having a little ...   \n",
       "2586  NOT_SARCASM  @USER @USER @USER I grew up in Crowborough . I...   \n",
       "2653  NOT_SARCASM  scripted tv show is not the way to a person's ...   \n",
       "1055      SARCASM  @USER @USER Don't forget that evocative sense ...   \n",
       "705       SARCASM  @USER @USER It ’ s funny how there aren ’ t an...   \n",
       "\n",
       "                                                context  \\\n",
       "1501  [Blah blah blah . Just listen to this guy . He...   \n",
       "2586  [There ’ s a beautiful #WolfMoon rising over C...   \n",
       "2653  [#TheBachelor I have no idea why such beautifu...   \n",
       "1055  [In other news , I'm going to take up art . 🎨 ...   \n",
       "705   [Is this photo real ? If so please tell me how...   \n",
       "\n",
       "                                                 concat  \n",
       "1501  Blah blah blah . Just listen to this guy . He ...  \n",
       "2586  There ’ s a beautiful #WolfMoon rising over Cr...  \n",
       "2653  #TheBachelor I have no idea why such beautiful...  \n",
       "1055  In other news , I'm going to take up art . 🎨 <...  \n",
       "705   Is this photo real ? If so please tell me how ...  "
      ]
     },
     "execution_count": 14,
     "metadata": {},
     "output_type": "execute_result"
    }
   ],
   "source": [
    "dataprocessor = dp()\n",
    "dataprocessor.train_test_split(random_state=42)\n",
    "dataprocessor.df_validation.head()"
   ]
  },
  {
   "cell_type": "code",
   "execution_count": 15,
   "metadata": {},
   "outputs": [],
   "source": [
    "dataprocessor.write_data()"
   ]
  }
 ],
 "metadata": {
  "kernelspec": {
   "display_name": "Python [conda env:kai] *",
   "language": "python",
   "name": "conda-env-kai-py"
  },
  "language_info": {
   "codemirror_mode": {
    "name": "ipython",
    "version": 3
   },
   "file_extension": ".py",
   "mimetype": "text/x-python",
   "name": "python",
   "nbconvert_exporter": "python",
   "pygments_lexer": "ipython3",
   "version": "3.7.9"
  }
 },
 "nbformat": 4,
 "nbformat_minor": 4
}
